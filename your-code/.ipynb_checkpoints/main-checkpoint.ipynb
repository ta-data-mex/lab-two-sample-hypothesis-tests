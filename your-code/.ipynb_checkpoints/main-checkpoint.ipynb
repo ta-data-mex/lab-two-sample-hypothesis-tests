{
 "cells": [
  {
   "cell_type": "markdown",
   "metadata": {},
   "source": [
    "# Before your start:\n",
    "- Read the README.md file\n",
    "- Comment as much as you can and use the resources (README.md file)\n",
    "- Happy learning!"
   ]
  },
  {
   "cell_type": "code",
   "execution_count": 1,
   "metadata": {},
   "outputs": [],
   "source": [
    "import numpy as np \n",
    "import pandas as pd"
   ]
  },
  {
   "cell_type": "markdown",
   "metadata": {},
   "source": [
    "# Challenge 1 - Independent Sample T-tests\n",
    "\n",
    "In this challenge, we will be using the Pokemon dataset. Before applying statistical methods to this data, let's first examine the data.\n",
    "\n",
    "To load the data, run the code below."
   ]
  },
  {
   "cell_type": "code",
   "execution_count": 2,
   "metadata": {},
   "outputs": [],
   "source": [
    "# Run this code:\n",
    "\n",
    "pokemon = pd.read_csv('../pokemon.csv')"
   ]
  },
  {
   "cell_type": "markdown",
   "metadata": {},
   "source": [
    "Let's start off by looking at the `head` function in the cell below."
   ]
  },
  {
   "cell_type": "code",
   "execution_count": 3,
   "metadata": {},
   "outputs": [
    {
     "data": {
      "text/html": [
       "<div>\n",
       "<style scoped>\n",
       "    .dataframe tbody tr th:only-of-type {\n",
       "        vertical-align: middle;\n",
       "    }\n",
       "\n",
       "    .dataframe tbody tr th {\n",
       "        vertical-align: top;\n",
       "    }\n",
       "\n",
       "    .dataframe thead th {\n",
       "        text-align: right;\n",
       "    }\n",
       "</style>\n",
       "<table border=\"1\" class=\"dataframe\">\n",
       "  <thead>\n",
       "    <tr style=\"text-align: right;\">\n",
       "      <th></th>\n",
       "      <th>#</th>\n",
       "      <th>Name</th>\n",
       "      <th>Type 1</th>\n",
       "      <th>Type 2</th>\n",
       "      <th>Total</th>\n",
       "      <th>HP</th>\n",
       "      <th>Attack</th>\n",
       "      <th>Defense</th>\n",
       "      <th>Sp. Atk</th>\n",
       "      <th>Sp. Def</th>\n",
       "      <th>Speed</th>\n",
       "      <th>Generation</th>\n",
       "      <th>Legendary</th>\n",
       "    </tr>\n",
       "  </thead>\n",
       "  <tbody>\n",
       "    <tr>\n",
       "      <th>0</th>\n",
       "      <td>1</td>\n",
       "      <td>Bulbasaur</td>\n",
       "      <td>Grass</td>\n",
       "      <td>Poison</td>\n",
       "      <td>318</td>\n",
       "      <td>45</td>\n",
       "      <td>49</td>\n",
       "      <td>49</td>\n",
       "      <td>65</td>\n",
       "      <td>65</td>\n",
       "      <td>45</td>\n",
       "      <td>1</td>\n",
       "      <td>False</td>\n",
       "    </tr>\n",
       "    <tr>\n",
       "      <th>1</th>\n",
       "      <td>2</td>\n",
       "      <td>Ivysaur</td>\n",
       "      <td>Grass</td>\n",
       "      <td>Poison</td>\n",
       "      <td>405</td>\n",
       "      <td>60</td>\n",
       "      <td>62</td>\n",
       "      <td>63</td>\n",
       "      <td>80</td>\n",
       "      <td>80</td>\n",
       "      <td>60</td>\n",
       "      <td>1</td>\n",
       "      <td>False</td>\n",
       "    </tr>\n",
       "    <tr>\n",
       "      <th>2</th>\n",
       "      <td>3</td>\n",
       "      <td>Venusaur</td>\n",
       "      <td>Grass</td>\n",
       "      <td>Poison</td>\n",
       "      <td>525</td>\n",
       "      <td>80</td>\n",
       "      <td>82</td>\n",
       "      <td>83</td>\n",
       "      <td>100</td>\n",
       "      <td>100</td>\n",
       "      <td>80</td>\n",
       "      <td>1</td>\n",
       "      <td>False</td>\n",
       "    </tr>\n",
       "    <tr>\n",
       "      <th>3</th>\n",
       "      <td>3</td>\n",
       "      <td>VenusaurMega Venusaur</td>\n",
       "      <td>Grass</td>\n",
       "      <td>Poison</td>\n",
       "      <td>625</td>\n",
       "      <td>80</td>\n",
       "      <td>100</td>\n",
       "      <td>123</td>\n",
       "      <td>122</td>\n",
       "      <td>120</td>\n",
       "      <td>80</td>\n",
       "      <td>1</td>\n",
       "      <td>False</td>\n",
       "    </tr>\n",
       "    <tr>\n",
       "      <th>4</th>\n",
       "      <td>4</td>\n",
       "      <td>Charmander</td>\n",
       "      <td>Fire</td>\n",
       "      <td>NaN</td>\n",
       "      <td>309</td>\n",
       "      <td>39</td>\n",
       "      <td>52</td>\n",
       "      <td>43</td>\n",
       "      <td>60</td>\n",
       "      <td>50</td>\n",
       "      <td>65</td>\n",
       "      <td>1</td>\n",
       "      <td>False</td>\n",
       "    </tr>\n",
       "  </tbody>\n",
       "</table>\n",
       "</div>"
      ],
      "text/plain": [
       "   #                   Name Type 1  Type 2  Total  HP  Attack  Defense  \\\n",
       "0  1              Bulbasaur  Grass  Poison    318  45      49       49   \n",
       "1  2                Ivysaur  Grass  Poison    405  60      62       63   \n",
       "2  3               Venusaur  Grass  Poison    525  80      82       83   \n",
       "3  3  VenusaurMega Venusaur  Grass  Poison    625  80     100      123   \n",
       "4  4             Charmander   Fire     NaN    309  39      52       43   \n",
       "\n",
       "   Sp. Atk  Sp. Def  Speed  Generation  Legendary  \n",
       "0       65       65     45           1      False  \n",
       "1       80       80     60           1      False  \n",
       "2      100      100     80           1      False  \n",
       "3      122      120     80           1      False  \n",
       "4       60       50     65           1      False  "
      ]
     },
     "execution_count": 3,
     "metadata": {},
     "output_type": "execute_result"
    }
   ],
   "source": [
    "pokemon.head()"
   ]
  },
  {
   "cell_type": "markdown",
   "metadata": {},
   "source": [
    "The first thing we would like to do is compare the legendary Pokemon to the regular Pokemon. To do this, we should examine the data further. What is the count of legendary vs. non legendary Pokemons?"
   ]
  },
  {
   "cell_type": "code",
   "execution_count": 4,
   "metadata": {},
   "outputs": [
    {
     "data": {
      "text/plain": [
       "False    735\n",
       "True      65\n",
       "Name: Legendary, dtype: int64"
      ]
     },
     "execution_count": 4,
     "metadata": {},
     "output_type": "execute_result"
    }
   ],
   "source": [
    "# Your code here:\n",
    "pokemon.Legendary.value_counts()"
   ]
  },
  {
   "cell_type": "markdown",
   "metadata": {},
   "source": [
    "Compute the mean and standard deviation of the total points for both legendary and non-legendary Pokemon."
   ]
  },
  {
   "cell_type": "code",
   "execution_count": 5,
   "metadata": {},
   "outputs": [],
   "source": [
    "#pokemon['Total'][pokemon['Legendary'] == False].mean()"
   ]
  },
  {
   "cell_type": "code",
   "execution_count": 6,
   "metadata": {},
   "outputs": [
    {
     "data": {
      "text/html": [
       "<div>\n",
       "<style scoped>\n",
       "    .dataframe tbody tr th:only-of-type {\n",
       "        vertical-align: middle;\n",
       "    }\n",
       "\n",
       "    .dataframe tbody tr th {\n",
       "        vertical-align: top;\n",
       "    }\n",
       "\n",
       "    .dataframe thead tr th {\n",
       "        text-align: left;\n",
       "    }\n",
       "</style>\n",
       "<table border=\"1\" class=\"dataframe\">\n",
       "  <thead>\n",
       "    <tr>\n",
       "      <th></th>\n",
       "      <th>Legendary</th>\n",
       "      <th colspan=\"2\" halign=\"left\">Total</th>\n",
       "    </tr>\n",
       "    <tr>\n",
       "      <th></th>\n",
       "      <th></th>\n",
       "      <th>mean</th>\n",
       "      <th>std</th>\n",
       "    </tr>\n",
       "  </thead>\n",
       "  <tbody>\n",
       "    <tr>\n",
       "      <th>0</th>\n",
       "      <td>False</td>\n",
       "      <td>417.213605</td>\n",
       "      <td>106.760417</td>\n",
       "    </tr>\n",
       "    <tr>\n",
       "      <th>1</th>\n",
       "      <td>True</td>\n",
       "      <td>637.384615</td>\n",
       "      <td>60.937389</td>\n",
       "    </tr>\n",
       "  </tbody>\n",
       "</table>\n",
       "</div>"
      ],
      "text/plain": [
       "  Legendary       Total            \n",
       "                   mean         std\n",
       "0     False  417.213605  106.760417\n",
       "1      True  637.384615   60.937389"
      ]
     },
     "execution_count": 6,
     "metadata": {},
     "output_type": "execute_result"
    }
   ],
   "source": [
    "pokemon.groupby('Legendary', as_index = False).agg({'Total':['mean', 'std']})"
   ]
  },
  {
   "cell_type": "markdown",
   "metadata": {},
   "source": [
    "The computation of the mean might give us a clue regarding how the statistical test may turn out; However, it certainly does not prove whether there is a significant difference between the two groups.\n",
    "\n",
    "In the cell below, use the `ttest_ind` function in `scipy.stats` to compare the the total points for legendary and non-legendary Pokemon. Since we do not have any information about the population, assume the variances are not equal."
   ]
  },
  {
   "cell_type": "code",
   "execution_count": 7,
   "metadata": {},
   "outputs": [
    {
     "data": {
      "text/plain": [
       "Ttest_indResult(statistic=16.386116965872425, pvalue=3.0952457469652825e-52)"
      ]
     },
     "execution_count": 7,
     "metadata": {},
     "output_type": "execute_result"
    }
   ],
   "source": [
    "from scipy.stats import ttest_1samp\n",
    "from scipy.stats import ttest_ind\n",
    "\n",
    "ttest_ind(pokemon[pokemon.Legendary == True]['Total'], \n",
    "          pokemon[pokemon.Legendary == False]['Total'], equal_var = True)\n",
    "          "
   ]
  },
  {
   "cell_type": "markdown",
   "metadata": {},
   "source": [
    "What do you conclude from this test? Write your conclusions below."
   ]
  },
  {
   "cell_type": "code",
   "execution_count": 9,
   "metadata": {},
   "outputs": [],
   "source": [
    "#El p-value es muy bajo por lo tanto rechazamos hipótesis nula "
   ]
  },
  {
   "cell_type": "markdown",
   "metadata": {},
   "source": [
    "How about we try to compare the different types of pokemon? In the cell below, list the types of Pokemon from column `Type 1` and the count of each type."
   ]
  },
  {
   "cell_type": "code",
   "execution_count": 10,
   "metadata": {},
   "outputs": [
    {
     "data": {
      "text/plain": [
       "Water       112\n",
       "Normal       98\n",
       "Grass        70\n",
       "Bug          69\n",
       "Psychic      57\n",
       "Fire         52\n",
       "Rock         44\n",
       "Electric     44\n",
       "Dragon       32\n",
       "Ghost        32\n",
       "Ground       32\n",
       "Dark         31\n",
       "Poison       28\n",
       "Fighting     27\n",
       "Steel        27\n",
       "Ice          24\n",
       "Fairy        17\n",
       "Flying        4\n",
       "Name: Type 1, dtype: int64"
      ]
     },
     "execution_count": 10,
     "metadata": {},
     "output_type": "execute_result"
    }
   ],
   "source": [
    "# Your code here:\n",
    "pokemon['Type 1'].value_counts()\n"
   ]
  },
  {
   "cell_type": "markdown",
   "metadata": {},
   "source": [
    "Since water is the largest group of Pokemon, compare the mean and standard deviation of water Pokemon to all other Pokemon."
   ]
  },
  {
   "cell_type": "code",
   "execution_count": 11,
   "metadata": {},
   "outputs": [
    {
     "data": {
      "text/html": [
       "<div>\n",
       "<style scoped>\n",
       "    .dataframe tbody tr th:only-of-type {\n",
       "        vertical-align: middle;\n",
       "    }\n",
       "\n",
       "    .dataframe tbody tr th {\n",
       "        vertical-align: top;\n",
       "    }\n",
       "\n",
       "    .dataframe thead tr th {\n",
       "        text-align: left;\n",
       "    }\n",
       "\n",
       "    .dataframe thead tr:last-of-type th {\n",
       "        text-align: right;\n",
       "    }\n",
       "</style>\n",
       "<table border=\"1\" class=\"dataframe\">\n",
       "  <thead>\n",
       "    <tr>\n",
       "      <th></th>\n",
       "      <th colspan=\"8\" halign=\"left\">#</th>\n",
       "      <th colspan=\"2\" halign=\"left\">Total</th>\n",
       "      <th>...</th>\n",
       "      <th colspan=\"2\" halign=\"left\">Speed</th>\n",
       "      <th colspan=\"8\" halign=\"left\">Generation</th>\n",
       "    </tr>\n",
       "    <tr>\n",
       "      <th></th>\n",
       "      <th>count</th>\n",
       "      <th>mean</th>\n",
       "      <th>std</th>\n",
       "      <th>min</th>\n",
       "      <th>25%</th>\n",
       "      <th>50%</th>\n",
       "      <th>75%</th>\n",
       "      <th>max</th>\n",
       "      <th>count</th>\n",
       "      <th>mean</th>\n",
       "      <th>...</th>\n",
       "      <th>75%</th>\n",
       "      <th>max</th>\n",
       "      <th>count</th>\n",
       "      <th>mean</th>\n",
       "      <th>std</th>\n",
       "      <th>min</th>\n",
       "      <th>25%</th>\n",
       "      <th>50%</th>\n",
       "      <th>75%</th>\n",
       "      <th>max</th>\n",
       "    </tr>\n",
       "    <tr>\n",
       "      <th>Type 1</th>\n",
       "      <th></th>\n",
       "      <th></th>\n",
       "      <th></th>\n",
       "      <th></th>\n",
       "      <th></th>\n",
       "      <th></th>\n",
       "      <th></th>\n",
       "      <th></th>\n",
       "      <th></th>\n",
       "      <th></th>\n",
       "      <th></th>\n",
       "      <th></th>\n",
       "      <th></th>\n",
       "      <th></th>\n",
       "      <th></th>\n",
       "      <th></th>\n",
       "      <th></th>\n",
       "      <th></th>\n",
       "      <th></th>\n",
       "      <th></th>\n",
       "      <th></th>\n",
       "    </tr>\n",
       "  </thead>\n",
       "  <tbody>\n",
       "    <tr>\n",
       "      <th>Bug</th>\n",
       "      <td>69.0</td>\n",
       "      <td>334.492754</td>\n",
       "      <td>210.445160</td>\n",
       "      <td>10.0</td>\n",
       "      <td>168.00</td>\n",
       "      <td>291.0</td>\n",
       "      <td>543.00</td>\n",
       "      <td>666.0</td>\n",
       "      <td>69.0</td>\n",
       "      <td>378.927536</td>\n",
       "      <td>...</td>\n",
       "      <td>85.00</td>\n",
       "      <td>160.0</td>\n",
       "      <td>69.0</td>\n",
       "      <td>3.217391</td>\n",
       "      <td>1.598433</td>\n",
       "      <td>1.0</td>\n",
       "      <td>2.00</td>\n",
       "      <td>3.0</td>\n",
       "      <td>5.00</td>\n",
       "      <td>6.0</td>\n",
       "    </tr>\n",
       "    <tr>\n",
       "      <th>Dark</th>\n",
       "      <td>31.0</td>\n",
       "      <td>461.354839</td>\n",
       "      <td>176.022072</td>\n",
       "      <td>197.0</td>\n",
       "      <td>282.00</td>\n",
       "      <td>509.0</td>\n",
       "      <td>627.00</td>\n",
       "      <td>717.0</td>\n",
       "      <td>31.0</td>\n",
       "      <td>445.741935</td>\n",
       "      <td>...</td>\n",
       "      <td>98.50</td>\n",
       "      <td>125.0</td>\n",
       "      <td>31.0</td>\n",
       "      <td>4.032258</td>\n",
       "      <td>1.353609</td>\n",
       "      <td>2.0</td>\n",
       "      <td>3.00</td>\n",
       "      <td>5.0</td>\n",
       "      <td>5.00</td>\n",
       "      <td>6.0</td>\n",
       "    </tr>\n",
       "    <tr>\n",
       "      <th>Dragon</th>\n",
       "      <td>32.0</td>\n",
       "      <td>474.375000</td>\n",
       "      <td>170.190169</td>\n",
       "      <td>147.0</td>\n",
       "      <td>373.00</td>\n",
       "      <td>443.5</td>\n",
       "      <td>643.25</td>\n",
       "      <td>718.0</td>\n",
       "      <td>32.0</td>\n",
       "      <td>550.531250</td>\n",
       "      <td>...</td>\n",
       "      <td>97.75</td>\n",
       "      <td>120.0</td>\n",
       "      <td>32.0</td>\n",
       "      <td>3.875000</td>\n",
       "      <td>1.431219</td>\n",
       "      <td>1.0</td>\n",
       "      <td>3.00</td>\n",
       "      <td>4.0</td>\n",
       "      <td>5.00</td>\n",
       "      <td>6.0</td>\n",
       "    </tr>\n",
       "    <tr>\n",
       "      <th>Electric</th>\n",
       "      <td>44.0</td>\n",
       "      <td>363.500000</td>\n",
       "      <td>202.731063</td>\n",
       "      <td>25.0</td>\n",
       "      <td>179.75</td>\n",
       "      <td>403.5</td>\n",
       "      <td>489.75</td>\n",
       "      <td>702.0</td>\n",
       "      <td>44.0</td>\n",
       "      <td>443.409091</td>\n",
       "      <td>...</td>\n",
       "      <td>101.50</td>\n",
       "      <td>140.0</td>\n",
       "      <td>44.0</td>\n",
       "      <td>3.272727</td>\n",
       "      <td>1.604697</td>\n",
       "      <td>1.0</td>\n",
       "      <td>2.00</td>\n",
       "      <td>4.0</td>\n",
       "      <td>4.25</td>\n",
       "      <td>6.0</td>\n",
       "    </tr>\n",
       "    <tr>\n",
       "      <th>Fairy</th>\n",
       "      <td>17.0</td>\n",
       "      <td>449.529412</td>\n",
       "      <td>271.983942</td>\n",
       "      <td>35.0</td>\n",
       "      <td>176.00</td>\n",
       "      <td>669.0</td>\n",
       "      <td>683.00</td>\n",
       "      <td>716.0</td>\n",
       "      <td>17.0</td>\n",
       "      <td>413.176471</td>\n",
       "      <td>...</td>\n",
       "      <td>60.00</td>\n",
       "      <td>99.0</td>\n",
       "      <td>17.0</td>\n",
       "      <td>4.117647</td>\n",
       "      <td>2.147160</td>\n",
       "      <td>1.0</td>\n",
       "      <td>2.00</td>\n",
       "      <td>6.0</td>\n",
       "      <td>6.00</td>\n",
       "      <td>6.0</td>\n",
       "    </tr>\n",
       "    <tr>\n",
       "      <th>Fighting</th>\n",
       "      <td>27.0</td>\n",
       "      <td>363.851852</td>\n",
       "      <td>218.565200</td>\n",
       "      <td>56.0</td>\n",
       "      <td>171.50</td>\n",
       "      <td>308.0</td>\n",
       "      <td>536.00</td>\n",
       "      <td>701.0</td>\n",
       "      <td>27.0</td>\n",
       "      <td>416.444444</td>\n",
       "      <td>...</td>\n",
       "      <td>86.00</td>\n",
       "      <td>118.0</td>\n",
       "      <td>27.0</td>\n",
       "      <td>3.370370</td>\n",
       "      <td>1.800601</td>\n",
       "      <td>1.0</td>\n",
       "      <td>1.50</td>\n",
       "      <td>3.0</td>\n",
       "      <td>5.00</td>\n",
       "      <td>6.0</td>\n",
       "    </tr>\n",
       "    <tr>\n",
       "      <th>Fire</th>\n",
       "      <td>52.0</td>\n",
       "      <td>327.403846</td>\n",
       "      <td>226.262840</td>\n",
       "      <td>4.0</td>\n",
       "      <td>143.50</td>\n",
       "      <td>289.5</td>\n",
       "      <td>513.25</td>\n",
       "      <td>721.0</td>\n",
       "      <td>52.0</td>\n",
       "      <td>458.076923</td>\n",
       "      <td>...</td>\n",
       "      <td>96.25</td>\n",
       "      <td>126.0</td>\n",
       "      <td>52.0</td>\n",
       "      <td>3.211538</td>\n",
       "      <td>1.850665</td>\n",
       "      <td>1.0</td>\n",
       "      <td>1.00</td>\n",
       "      <td>3.0</td>\n",
       "      <td>5.00</td>\n",
       "      <td>6.0</td>\n",
       "    </tr>\n",
       "    <tr>\n",
       "      <th>Flying</th>\n",
       "      <td>4.0</td>\n",
       "      <td>677.750000</td>\n",
       "      <td>42.437209</td>\n",
       "      <td>641.0</td>\n",
       "      <td>641.00</td>\n",
       "      <td>677.5</td>\n",
       "      <td>714.25</td>\n",
       "      <td>715.0</td>\n",
       "      <td>4.0</td>\n",
       "      <td>485.000000</td>\n",
       "      <td>...</td>\n",
       "      <td>121.50</td>\n",
       "      <td>123.0</td>\n",
       "      <td>4.0</td>\n",
       "      <td>5.500000</td>\n",
       "      <td>0.577350</td>\n",
       "      <td>5.0</td>\n",
       "      <td>5.00</td>\n",
       "      <td>5.5</td>\n",
       "      <td>6.00</td>\n",
       "      <td>6.0</td>\n",
       "    </tr>\n",
       "    <tr>\n",
       "      <th>Ghost</th>\n",
       "      <td>32.0</td>\n",
       "      <td>486.500000</td>\n",
       "      <td>209.189218</td>\n",
       "      <td>92.0</td>\n",
       "      <td>354.75</td>\n",
       "      <td>487.0</td>\n",
       "      <td>709.25</td>\n",
       "      <td>711.0</td>\n",
       "      <td>32.0</td>\n",
       "      <td>439.562500</td>\n",
       "      <td>...</td>\n",
       "      <td>84.25</td>\n",
       "      <td>130.0</td>\n",
       "      <td>32.0</td>\n",
       "      <td>4.187500</td>\n",
       "      <td>1.693203</td>\n",
       "      <td>1.0</td>\n",
       "      <td>3.00</td>\n",
       "      <td>4.0</td>\n",
       "      <td>6.00</td>\n",
       "      <td>6.0</td>\n",
       "    </tr>\n",
       "    <tr>\n",
       "      <th>Grass</th>\n",
       "      <td>70.0</td>\n",
       "      <td>344.871429</td>\n",
       "      <td>200.264385</td>\n",
       "      <td>1.0</td>\n",
       "      <td>187.25</td>\n",
       "      <td>372.0</td>\n",
       "      <td>496.75</td>\n",
       "      <td>673.0</td>\n",
       "      <td>70.0</td>\n",
       "      <td>421.142857</td>\n",
       "      <td>...</td>\n",
       "      <td>80.00</td>\n",
       "      <td>145.0</td>\n",
       "      <td>70.0</td>\n",
       "      <td>3.357143</td>\n",
       "      <td>1.579173</td>\n",
       "      <td>1.0</td>\n",
       "      <td>2.00</td>\n",
       "      <td>3.5</td>\n",
       "      <td>5.00</td>\n",
       "      <td>6.0</td>\n",
       "    </tr>\n",
       "    <tr>\n",
       "      <th>Ground</th>\n",
       "      <td>32.0</td>\n",
       "      <td>356.281250</td>\n",
       "      <td>204.899855</td>\n",
       "      <td>27.0</td>\n",
       "      <td>183.25</td>\n",
       "      <td>363.5</td>\n",
       "      <td>535.25</td>\n",
       "      <td>645.0</td>\n",
       "      <td>32.0</td>\n",
       "      <td>437.500000</td>\n",
       "      <td>...</td>\n",
       "      <td>90.00</td>\n",
       "      <td>120.0</td>\n",
       "      <td>32.0</td>\n",
       "      <td>3.156250</td>\n",
       "      <td>1.588454</td>\n",
       "      <td>1.0</td>\n",
       "      <td>1.75</td>\n",
       "      <td>3.0</td>\n",
       "      <td>5.00</td>\n",
       "      <td>5.0</td>\n",
       "    </tr>\n",
       "    <tr>\n",
       "      <th>Ice</th>\n",
       "      <td>24.0</td>\n",
       "      <td>423.541667</td>\n",
       "      <td>175.465834</td>\n",
       "      <td>124.0</td>\n",
       "      <td>330.25</td>\n",
       "      <td>371.5</td>\n",
       "      <td>583.25</td>\n",
       "      <td>713.0</td>\n",
       "      <td>24.0</td>\n",
       "      <td>433.458333</td>\n",
       "      <td>...</td>\n",
       "      <td>80.00</td>\n",
       "      <td>110.0</td>\n",
       "      <td>24.0</td>\n",
       "      <td>3.541667</td>\n",
       "      <td>1.473805</td>\n",
       "      <td>1.0</td>\n",
       "      <td>2.75</td>\n",
       "      <td>3.0</td>\n",
       "      <td>5.00</td>\n",
       "      <td>6.0</td>\n",
       "    </tr>\n",
       "    <tr>\n",
       "      <th>Normal</th>\n",
       "      <td>98.0</td>\n",
       "      <td>319.173469</td>\n",
       "      <td>193.854820</td>\n",
       "      <td>16.0</td>\n",
       "      <td>161.25</td>\n",
       "      <td>296.5</td>\n",
       "      <td>483.00</td>\n",
       "      <td>676.0</td>\n",
       "      <td>98.0</td>\n",
       "      <td>401.683673</td>\n",
       "      <td>...</td>\n",
       "      <td>90.75</td>\n",
       "      <td>135.0</td>\n",
       "      <td>98.0</td>\n",
       "      <td>3.051020</td>\n",
       "      <td>1.575407</td>\n",
       "      <td>1.0</td>\n",
       "      <td>2.00</td>\n",
       "      <td>3.0</td>\n",
       "      <td>4.00</td>\n",
       "      <td>6.0</td>\n",
       "    </tr>\n",
       "    <tr>\n",
       "      <th>Poison</th>\n",
       "      <td>28.0</td>\n",
       "      <td>251.785714</td>\n",
       "      <td>228.801767</td>\n",
       "      <td>23.0</td>\n",
       "      <td>33.75</td>\n",
       "      <td>139.5</td>\n",
       "      <td>451.25</td>\n",
       "      <td>691.0</td>\n",
       "      <td>28.0</td>\n",
       "      <td>399.142857</td>\n",
       "      <td>...</td>\n",
       "      <td>77.00</td>\n",
       "      <td>130.0</td>\n",
       "      <td>28.0</td>\n",
       "      <td>2.535714</td>\n",
       "      <td>1.752927</td>\n",
       "      <td>1.0</td>\n",
       "      <td>1.00</td>\n",
       "      <td>1.5</td>\n",
       "      <td>4.00</td>\n",
       "      <td>6.0</td>\n",
       "    </tr>\n",
       "    <tr>\n",
       "      <th>Psychic</th>\n",
       "      <td>57.0</td>\n",
       "      <td>380.807018</td>\n",
       "      <td>194.600455</td>\n",
       "      <td>63.0</td>\n",
       "      <td>201.00</td>\n",
       "      <td>386.0</td>\n",
       "      <td>528.00</td>\n",
       "      <td>720.0</td>\n",
       "      <td>57.0</td>\n",
       "      <td>475.947368</td>\n",
       "      <td>...</td>\n",
       "      <td>104.00</td>\n",
       "      <td>180.0</td>\n",
       "      <td>57.0</td>\n",
       "      <td>3.385965</td>\n",
       "      <td>1.644845</td>\n",
       "      <td>1.0</td>\n",
       "      <td>2.00</td>\n",
       "      <td>3.0</td>\n",
       "      <td>5.00</td>\n",
       "      <td>6.0</td>\n",
       "    </tr>\n",
       "    <tr>\n",
       "      <th>Rock</th>\n",
       "      <td>44.0</td>\n",
       "      <td>392.727273</td>\n",
       "      <td>213.746140</td>\n",
       "      <td>74.0</td>\n",
       "      <td>230.75</td>\n",
       "      <td>362.5</td>\n",
       "      <td>566.25</td>\n",
       "      <td>719.0</td>\n",
       "      <td>44.0</td>\n",
       "      <td>453.750000</td>\n",
       "      <td>...</td>\n",
       "      <td>70.00</td>\n",
       "      <td>150.0</td>\n",
       "      <td>44.0</td>\n",
       "      <td>3.454545</td>\n",
       "      <td>1.848375</td>\n",
       "      <td>1.0</td>\n",
       "      <td>2.00</td>\n",
       "      <td>3.0</td>\n",
       "      <td>5.00</td>\n",
       "      <td>6.0</td>\n",
       "    </tr>\n",
       "    <tr>\n",
       "      <th>Steel</th>\n",
       "      <td>27.0</td>\n",
       "      <td>442.851852</td>\n",
       "      <td>164.847180</td>\n",
       "      <td>208.0</td>\n",
       "      <td>305.50</td>\n",
       "      <td>379.0</td>\n",
       "      <td>600.50</td>\n",
       "      <td>707.0</td>\n",
       "      <td>27.0</td>\n",
       "      <td>487.703704</td>\n",
       "      <td>...</td>\n",
       "      <td>70.00</td>\n",
       "      <td>110.0</td>\n",
       "      <td>27.0</td>\n",
       "      <td>3.851852</td>\n",
       "      <td>1.350319</td>\n",
       "      <td>2.0</td>\n",
       "      <td>3.00</td>\n",
       "      <td>3.0</td>\n",
       "      <td>5.00</td>\n",
       "      <td>6.0</td>\n",
       "    </tr>\n",
       "    <tr>\n",
       "      <th>Water</th>\n",
       "      <td>112.0</td>\n",
       "      <td>303.089286</td>\n",
       "      <td>188.440807</td>\n",
       "      <td>7.0</td>\n",
       "      <td>130.00</td>\n",
       "      <td>275.0</td>\n",
       "      <td>456.25</td>\n",
       "      <td>693.0</td>\n",
       "      <td>112.0</td>\n",
       "      <td>430.455357</td>\n",
       "      <td>...</td>\n",
       "      <td>82.00</td>\n",
       "      <td>122.0</td>\n",
       "      <td>112.0</td>\n",
       "      <td>2.857143</td>\n",
       "      <td>1.558800</td>\n",
       "      <td>1.0</td>\n",
       "      <td>1.00</td>\n",
       "      <td>3.0</td>\n",
       "      <td>4.00</td>\n",
       "      <td>6.0</td>\n",
       "    </tr>\n",
       "  </tbody>\n",
       "</table>\n",
       "<p>18 rows × 72 columns</p>\n",
       "</div>"
      ],
      "text/plain": [
       "              #                                                               \\\n",
       "          count        mean         std    min     25%    50%     75%    max   \n",
       "Type 1                                                                         \n",
       "Bug        69.0  334.492754  210.445160   10.0  168.00  291.0  543.00  666.0   \n",
       "Dark       31.0  461.354839  176.022072  197.0  282.00  509.0  627.00  717.0   \n",
       "Dragon     32.0  474.375000  170.190169  147.0  373.00  443.5  643.25  718.0   \n",
       "Electric   44.0  363.500000  202.731063   25.0  179.75  403.5  489.75  702.0   \n",
       "Fairy      17.0  449.529412  271.983942   35.0  176.00  669.0  683.00  716.0   \n",
       "Fighting   27.0  363.851852  218.565200   56.0  171.50  308.0  536.00  701.0   \n",
       "Fire       52.0  327.403846  226.262840    4.0  143.50  289.5  513.25  721.0   \n",
       "Flying      4.0  677.750000   42.437209  641.0  641.00  677.5  714.25  715.0   \n",
       "Ghost      32.0  486.500000  209.189218   92.0  354.75  487.0  709.25  711.0   \n",
       "Grass      70.0  344.871429  200.264385    1.0  187.25  372.0  496.75  673.0   \n",
       "Ground     32.0  356.281250  204.899855   27.0  183.25  363.5  535.25  645.0   \n",
       "Ice        24.0  423.541667  175.465834  124.0  330.25  371.5  583.25  713.0   \n",
       "Normal     98.0  319.173469  193.854820   16.0  161.25  296.5  483.00  676.0   \n",
       "Poison     28.0  251.785714  228.801767   23.0   33.75  139.5  451.25  691.0   \n",
       "Psychic    57.0  380.807018  194.600455   63.0  201.00  386.0  528.00  720.0   \n",
       "Rock       44.0  392.727273  213.746140   74.0  230.75  362.5  566.25  719.0   \n",
       "Steel      27.0  442.851852  164.847180  208.0  305.50  379.0  600.50  707.0   \n",
       "Water     112.0  303.089286  188.440807    7.0  130.00  275.0  456.25  693.0   \n",
       "\n",
       "          Total              ...   Speed        Generation            \\\n",
       "          count        mean  ...     75%    max      count      mean   \n",
       "Type 1                       ...                                       \n",
       "Bug        69.0  378.927536  ...   85.00  160.0       69.0  3.217391   \n",
       "Dark       31.0  445.741935  ...   98.50  125.0       31.0  4.032258   \n",
       "Dragon     32.0  550.531250  ...   97.75  120.0       32.0  3.875000   \n",
       "Electric   44.0  443.409091  ...  101.50  140.0       44.0  3.272727   \n",
       "Fairy      17.0  413.176471  ...   60.00   99.0       17.0  4.117647   \n",
       "Fighting   27.0  416.444444  ...   86.00  118.0       27.0  3.370370   \n",
       "Fire       52.0  458.076923  ...   96.25  126.0       52.0  3.211538   \n",
       "Flying      4.0  485.000000  ...  121.50  123.0        4.0  5.500000   \n",
       "Ghost      32.0  439.562500  ...   84.25  130.0       32.0  4.187500   \n",
       "Grass      70.0  421.142857  ...   80.00  145.0       70.0  3.357143   \n",
       "Ground     32.0  437.500000  ...   90.00  120.0       32.0  3.156250   \n",
       "Ice        24.0  433.458333  ...   80.00  110.0       24.0  3.541667   \n",
       "Normal     98.0  401.683673  ...   90.75  135.0       98.0  3.051020   \n",
       "Poison     28.0  399.142857  ...   77.00  130.0       28.0  2.535714   \n",
       "Psychic    57.0  475.947368  ...  104.00  180.0       57.0  3.385965   \n",
       "Rock       44.0  453.750000  ...   70.00  150.0       44.0  3.454545   \n",
       "Steel      27.0  487.703704  ...   70.00  110.0       27.0  3.851852   \n",
       "Water     112.0  430.455357  ...   82.00  122.0      112.0  2.857143   \n",
       "\n",
       "                                               \n",
       "               std  min   25%  50%   75%  max  \n",
       "Type 1                                         \n",
       "Bug       1.598433  1.0  2.00  3.0  5.00  6.0  \n",
       "Dark      1.353609  2.0  3.00  5.0  5.00  6.0  \n",
       "Dragon    1.431219  1.0  3.00  4.0  5.00  6.0  \n",
       "Electric  1.604697  1.0  2.00  4.0  4.25  6.0  \n",
       "Fairy     2.147160  1.0  2.00  6.0  6.00  6.0  \n",
       "Fighting  1.800601  1.0  1.50  3.0  5.00  6.0  \n",
       "Fire      1.850665  1.0  1.00  3.0  5.00  6.0  \n",
       "Flying    0.577350  5.0  5.00  5.5  6.00  6.0  \n",
       "Ghost     1.693203  1.0  3.00  4.0  6.00  6.0  \n",
       "Grass     1.579173  1.0  2.00  3.5  5.00  6.0  \n",
       "Ground    1.588454  1.0  1.75  3.0  5.00  5.0  \n",
       "Ice       1.473805  1.0  2.75  3.0  5.00  6.0  \n",
       "Normal    1.575407  1.0  2.00  3.0  4.00  6.0  \n",
       "Poison    1.752927  1.0  1.00  1.5  4.00  6.0  \n",
       "Psychic   1.644845  1.0  2.00  3.0  5.00  6.0  \n",
       "Rock      1.848375  1.0  2.00  3.0  5.00  6.0  \n",
       "Steel     1.350319  2.0  3.00  3.0  5.00  6.0  \n",
       "Water     1.558800  1.0  1.00  3.0  4.00  6.0  \n",
       "\n",
       "[18 rows x 72 columns]"
      ]
     },
     "execution_count": 11,
     "metadata": {},
     "output_type": "execute_result"
    }
   ],
   "source": [
    "# Your code here:\n",
    "pokemon.groupby(pokemon['Type 1']).describe()"
   ]
  },
  {
   "cell_type": "code",
   "execution_count": 12,
   "metadata": {},
   "outputs": [],
   "source": [
    "no_water = pokemon[pokemon['Type 1'] != 'Water']['Total']\n",
    "water = pokemon[pokemon['Type 1'] == 'Water']['Total']"
   ]
  },
  {
   "cell_type": "code",
   "execution_count": 13,
   "metadata": {},
   "outputs": [
    {
     "data": {
      "text/plain": [
       "count    112.000000\n",
       "mean     430.455357\n",
       "std      113.188266\n",
       "min      200.000000\n",
       "25%      328.750000\n",
       "50%      455.000000\n",
       "75%      502.250000\n",
       "max      770.000000\n",
       "Name: Total, dtype: float64"
      ]
     },
     "execution_count": 13,
     "metadata": {},
     "output_type": "execute_result"
    }
   ],
   "source": [
    "water.describe()"
   ]
  },
  {
   "cell_type": "code",
   "execution_count": 14,
   "metadata": {},
   "outputs": [
    {
     "data": {
      "text/plain": [
       "count    688.000000\n",
       "mean     435.859012\n",
       "std      121.091682\n",
       "min      180.000000\n",
       "25%      330.000000\n",
       "50%      450.000000\n",
       "75%      515.000000\n",
       "max      780.000000\n",
       "Name: Total, dtype: float64"
      ]
     },
     "execution_count": 14,
     "metadata": {},
     "output_type": "execute_result"
    }
   ],
   "source": [
    "no_water.describe()"
   ]
  },
  {
   "cell_type": "markdown",
   "metadata": {},
   "source": [
    "Perform a hypothesis test comparing the mean of total points for water Pokemon to all non-water Pokemon. Assume the variances are equal. "
   ]
  },
  {
   "cell_type": "code",
   "execution_count": 15,
   "metadata": {},
   "outputs": [
    {
     "data": {
      "text/plain": [
       "Ttest_indResult(statistic=0.4418547448849676, pvalue=0.6587140317488793)"
      ]
     },
     "execution_count": 15,
     "metadata": {},
     "output_type": "execute_result"
    }
   ],
   "source": [
    "ttest_ind(no_water, water, equal_var=True, nan_policy = 'omit')"
   ]
  },
  {
   "cell_type": "markdown",
   "metadata": {},
   "source": [
    "Write your conclusion below."
   ]
  },
  {
   "cell_type": "code",
   "execution_count": 16,
   "metadata": {},
   "outputs": [],
   "source": [
    "# Your conclusions here:\n",
    "#There are no siginificant difference between water and no water type.\n",
    "#Pvalues is > to 0.05 so we don't reject the null hypothesis"
   ]
  },
  {
   "cell_type": "markdown",
   "metadata": {},
   "source": [
    "# Challenge 2 - Matched Pairs Test\n",
    "\n",
    "In this challenge we will compare dependent samples of data describing our Pokemon. Our goal is to see whether there is a significant difference between each Pokemon's defense and attack scores. Our hypothesis is that the defense and attack scores are equal. In the cell below, import the `ttest_rel` function from `scipy.stats` and compare the two columns to see if there is a statistically significant difference between them."
   ]
  },
  {
   "cell_type": "code",
   "execution_count": 17,
   "metadata": {},
   "outputs": [
    {
     "data": {
      "text/plain": [
       "Ttest_relResult(statistic=-4.325566393330478, pvalue=1.7140303479358558e-05)"
      ]
     },
     "execution_count": 17,
     "metadata": {},
     "output_type": "execute_result"
    }
   ],
   "source": [
    "# Your code here:\n",
    "from scipy.stats import ttest_rel\n",
    "\n",
    "ttest_rel(pokemon.Defense, pokemon.Attack)"
   ]
  },
  {
   "cell_type": "markdown",
   "metadata": {},
   "source": [
    "Describe the results of the test in the cell below."
   ]
  },
  {
   "cell_type": "code",
   "execution_count": 18,
   "metadata": {},
   "outputs": [],
   "source": [
    "# Your conclusions here:\n",
    "#We reject null hypothesis. "
   ]
  },
  {
   "cell_type": "markdown",
   "metadata": {},
   "source": [
    "We are also curious about whether therer is a significant difference between the mean of special defense and the mean of special attack. Perform the hypothesis test in the cell below. "
   ]
  },
  {
   "cell_type": "code",
   "execution_count": 19,
   "metadata": {},
   "outputs": [],
   "source": [
    "# Your code here:\n",
    "sp_attack = pokemon['Sp. Atk']"
   ]
  },
  {
   "cell_type": "code",
   "execution_count": 20,
   "metadata": {},
   "outputs": [],
   "source": [
    "sp_defense = pokemon['Sp. Def']\n"
   ]
  },
  {
   "cell_type": "markdown",
   "metadata": {},
   "source": [
    "Describe the results of the test in the cell below."
   ]
  },
  {
   "cell_type": "code",
   "execution_count": 21,
   "metadata": {},
   "outputs": [
    {
     "data": {
      "text/plain": [
       "Ttest_relResult(statistic=0.853986188453353, pvalue=0.3933685997548122)"
      ]
     },
     "execution_count": 21,
     "metadata": {},
     "output_type": "execute_result"
    }
   ],
   "source": [
    "# Your conclusions here:\n",
    "\n",
    "ttest_rel(sp_attack, sp_defense)\n",
    "\n",
    "#No rechazamos HN"
   ]
  },
  {
   "cell_type": "markdown",
   "metadata": {},
   "source": [
    "As you may recall, a two sample matched pairs test can also be expressed as a one sample test of the difference between the two dependent columns.\n",
    "\n",
    "Import the `ttest_1samp` function and perform a one sample t-test of the difference between defense and attack. Test the hypothesis that the difference between the means is zero. Confirm that the results of the test are the same."
   ]
  },
  {
   "cell_type": "code",
   "execution_count": 22,
   "metadata": {},
   "outputs": [],
   "source": [
    "# Your code here:\n",
    "#We reject null hypothesis so we accept an alternative value"
   ]
  },
  {
   "cell_type": "markdown",
   "metadata": {},
   "source": [
    "# Bonus Challenge - The Chi-Square Test\n",
    "\n",
    "The Chi-Square test is used to determine whether there is a statistically significant difference in frequencies. In other words, we are testing whether there is a relationship between categorical variables or rather when the variables are independent. This test is an alternative to Fisher's exact test and is used in scenarios where sample sizes are larger. However, with a large enough sample size, both tests produce similar results. Read more about the Chi Squared test [here](https://en.wikipedia.org/wiki/Chi-squared_test).\n",
    "\n",
    "In the cell below, create a contingency table using `pd.crosstab` comparing whether a Pokemon is legenadary or not and whether the Type 1 of a Pokemon is water or not."
   ]
  },
  {
   "cell_type": "code",
   "execution_count": 9,
   "metadata": {},
   "outputs": [
    {
     "data": {
      "text/html": [
       "<div>\n",
       "<style scoped>\n",
       "    .dataframe tbody tr th:only-of-type {\n",
       "        vertical-align: middle;\n",
       "    }\n",
       "\n",
       "    .dataframe tbody tr th {\n",
       "        vertical-align: top;\n",
       "    }\n",
       "\n",
       "    .dataframe thead th {\n",
       "        text-align: right;\n",
       "    }\n",
       "</style>\n",
       "<table border=\"1\" class=\"dataframe\">\n",
       "  <thead>\n",
       "    <tr style=\"text-align: right;\">\n",
       "      <th>Legendary</th>\n",
       "      <th>False</th>\n",
       "      <th>True</th>\n",
       "    </tr>\n",
       "    <tr>\n",
       "      <th>Type 1</th>\n",
       "      <th></th>\n",
       "      <th></th>\n",
       "    </tr>\n",
       "  </thead>\n",
       "  <tbody>\n",
       "    <tr>\n",
       "      <th>False</th>\n",
       "      <td>627</td>\n",
       "      <td>61</td>\n",
       "    </tr>\n",
       "    <tr>\n",
       "      <th>True</th>\n",
       "      <td>108</td>\n",
       "      <td>4</td>\n",
       "    </tr>\n",
       "  </tbody>\n",
       "</table>\n",
       "</div>"
      ],
      "text/plain": [
       "Legendary  False  True \n",
       "Type 1                 \n",
       "False        627     61\n",
       "True         108      4"
      ]
     },
     "execution_count": 9,
     "metadata": {},
     "output_type": "execute_result"
    }
   ],
   "source": [
    "# Your code here:\n",
    "pok_cross = pd.crosstab(pokemon['Type 1'] == 'Water', pokemon['Legendary'])\n",
    "pok_cross"
   ]
  },
  {
   "cell_type": "markdown",
   "metadata": {},
   "source": [
    "Perform a chi-squared test using the `chi2_contingency` function in `scipy.stats`. You can read the documentation of the function [here](https://docs.scipy.org/doc/scipy-0.15.1/reference/generated/scipy.stats.chi2_contingency.html)."
   ]
  },
  {
   "cell_type": "code",
   "execution_count": 11,
   "metadata": {},
   "outputs": [
    {
     "data": {
      "text/plain": [
       "0.08625467249550949"
      ]
     },
     "execution_count": 11,
     "metadata": {},
     "output_type": "execute_result"
    }
   ],
   "source": [
    "# Your code here:\n",
    "from scipy.stats import chi2_contingency\n",
    "\n",
    "#stat, p, dof, expected = chi2_contingency(pokemon)\n",
    "chi2, p, dof, ex = chi2_contingency(pok_cross)\n",
    "p\n",
    "\n",
    "#No rechazamos HN"
   ]
  },
  {
   "cell_type": "markdown",
   "metadata": {},
   "source": [
    "Based on a 95% confidence, should we reject the null hypothesis?"
   ]
  },
  {
   "cell_type": "code",
   "execution_count": 19,
   "metadata": {},
   "outputs": [],
   "source": [
    "# Your answer here:\n",
    "\n"
   ]
  },
  {
   "cell_type": "code",
   "execution_count": null,
   "metadata": {},
   "outputs": [],
   "source": []
  }
 ],
 "metadata": {
  "kernelspec": {
   "display_name": "Python 3",
   "language": "python",
   "name": "python3"
  },
  "language_info": {
   "codemirror_mode": {
    "name": "ipython",
    "version": 3
   },
   "file_extension": ".py",
   "mimetype": "text/x-python",
   "name": "python",
   "nbconvert_exporter": "python",
   "pygments_lexer": "ipython3",
   "version": "3.7.4"
  }
 },
 "nbformat": 4,
 "nbformat_minor": 2
}
